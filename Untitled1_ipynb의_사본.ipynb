{
  "nbformat": 4,
  "nbformat_minor": 0,
  "metadata": {
    "colab": {
      "name": "Untitled1.ipynb의 사본",
      "provenance": [],
      "authorship_tag": "ABX9TyOZE4DQVwaXiHOIFuDY6lA+",
      "include_colab_link": true
    },
    "kernelspec": {
      "name": "python3",
      "display_name": "Python 3"
    }
  },
  "cells": [
    {
      "cell_type": "markdown",
      "metadata": {
        "id": "view-in-github",
        "colab_type": "text"
      },
      "source": [
        "<a href=\"https://colab.research.google.com/github/gorajaeduck/jdweb/blob/master/Untitled1_ipynb%EC%9D%98_%EC%82%AC%EB%B3%B8.ipynb\" target=\"_parent\"><img src=\"https://colab.research.google.com/assets/colab-badge.svg\" alt=\"Open In Colab\"/></a>"
      ]
    },
    {
      "cell_type": "code",
      "metadata": {
        "id": "xViieQWmseTN",
        "colab_type": "code",
        "colab": {
          "base_uri": "https://localhost:8080/",
          "height": 51
        },
        "outputId": "dffe13af-fafa-40e5-aae0-85cd103ac638"
      },
      "source": [
        "#number\n",
        "print(1) # Integer\n",
        "#String\n",
        "print('Hello world')"
      ],
      "execution_count": null,
      "outputs": [
        {
          "output_type": "stream",
          "text": [
            "1\n",
            "Hello world\n"
          ],
          "name": "stdout"
        }
      ]
    },
    {
      "cell_type": "code",
      "metadata": {
        "id": "iUfPQYqUsvXN",
        "colab_type": "code",
        "colab": {
          "base_uri": "https://localhost:8080/",
          "height": 154
        },
        "outputId": "92bb1586-8747-45b7-881e-ed6843d6b159"
      },
      "source": [
        "#boolean\n",
        "print(True)\n",
        "print(False)\n",
        "#Expression\n",
        "print('Hello'+'world') #hello world\n",
        "#Comparison operator\n",
        "print(1==1) #True\n",
        "print(1<2) #True\n",
        "print(2<1) #False\n",
        "#Membership operator\n",
        "print('world' in 'hello world')\n",
        "\n",
        "import os.path\n",
        "print(os.path.exists('untitled1.ipynb'))"
      ],
      "execution_count": 7,
      "outputs": [
        {
          "output_type": "stream",
          "text": [
            "True\n",
            "False\n",
            "Helloworld\n",
            "True\n",
            "True\n",
            "False\n",
            "True\n",
            "False\n"
          ],
          "name": "stdout"
        }
      ]
    },
    {
      "cell_type": "code",
      "metadata": {
        "id": "JU1ZYaaVnkAi",
        "colab_type": "code",
        "colab": {}
      },
      "source": [
        ""
      ],
      "execution_count": null,
      "outputs": []
    },
    {
      "cell_type": "code",
      "metadata": {
        "id": "YAKUwawftlmr",
        "colab_type": "code",
        "colab": {
          "base_uri": "https://localhost:8080/",
          "height": 68
        },
        "outputId": "14f366de-f21f-4bc8-a922-c194823e2cc6"
      },
      "source": [
        "user_ID = input('id?')\n",
        "user_pwd = input('password?')\n",
        "\n",
        "if user_ID == 'gorajaeduck':\n",
        "  if user_pwd == '111111': \n",
        "    print('Hello master')\n",
        "  else :\n",
        "    print('password error')\n",
        "else:\n",
        "  print('ID error')\n",
        "\n"
      ],
      "execution_count": 6,
      "outputs": [
        {
          "output_type": "stream",
          "text": [
            "id?gorajaeduck\n",
            "password?1234\n",
            "password error\n"
          ],
          "name": "stdout"
        }
      ]
    },
    {
      "cell_type": "code",
      "metadata": {
        "id": "DzGwAuKHvae9",
        "colab_type": "code",
        "colab": {
          "base_uri": "https://localhost:8080/",
          "height": 68
        },
        "outputId": "946a9914-f7f3-4163-9eaf-490f2478effe"
      },
      "source": [
        "user_ID = input('id?')\n",
        "user_pwd = input('password?')\n",
        "\n",
        "if user_ID == 'gorajaeduck' and user_pwd == '111111' :\n",
        "  print('hello master')\n",
        "else : \n",
        "  print('login failure')\n"
      ],
      "execution_count": 13,
      "outputs": [
        {
          "output_type": "stream",
          "text": [
            "id?jung\n",
            "password?111111\n",
            "login failure\n"
          ],
          "name": "stdout"
        }
      ]
    },
    {
      "cell_type": "code",
      "metadata": {
        "id": "SSlrlBOyoQ0B",
        "colab_type": "code",
        "colab": {
          "base_uri": "https://localhost:8080/",
          "height": 120
        },
        "outputId": "cdc86041-3ffe-448b-9e58-79207ae56baa"
      },
      "source": [
        "s = [1, 'four', 9,16,25]\n",
        "print(s)\n",
        "print(s[1])\n",
        "print(len(s))\n",
        "s[1] = 4\n",
        "print(s)\n",
        "del s[2]\n",
        "print(s)\n",
        "s.append(\"gorajaeduck\")\n",
        "print(s)"
      ],
      "execution_count": 32,
      "outputs": [
        {
          "output_type": "stream",
          "text": [
            "[1, 'four', 9, 16, 25]\n",
            "four\n",
            "5\n",
            "[1, 4, 9, 16, 25]\n",
            "[1, 4, 16, 25]\n",
            "[1, 4, 16, 25, 'gorajaeduck']\n"
          ],
          "name": "stdout"
        }
      ]
    },
    {
      "cell_type": "code",
      "metadata": {
        "id": "v8SZOwAYrXlI",
        "colab_type": "code",
        "colab": {
          "base_uri": "https://localhost:8080/",
          "height": 51
        },
        "outputId": "4f2ac313-9893-41f0-deb1-abf048fe0e42"
      },
      "source": [
        "a = ['gorajaeduck','seoul','korea']\n",
        "a[0]\n",
        "#dictionary\n",
        "person = {'name':'gorajaeduck','address':'seoul','nation':'Korea'}\n",
        "print(person['name'])\n",
        "print(person['address'])\n",
        "\n"
      ],
      "execution_count": 46,
      "outputs": [
        {
          "output_type": "stream",
          "text": [
            "gorajaeduck\n",
            "seoul\n"
          ],
          "name": "stdout"
        }
      ]
    },
    {
      "cell_type": "markdown",
      "metadata": {
        "id": "u4cMZXk-v7nO",
        "colab_type": "text"
      },
      "source": [
        ""
      ]
    },
    {
      "cell_type": "code",
      "metadata": {
        "id": "kaswPXHestpZ",
        "colab_type": "code",
        "colab": {
          "base_uri": "https://localhost:8080/",
          "height": 291
        },
        "outputId": "60ac8a8f-7d66-4d39-ade5-0877264eff0a"
      },
      "source": [
        "#list\n",
        "print(1)\n",
        "for value in ['a','b','c']:\n",
        "  print(value)\n",
        "print(2)\n",
        "#range\n",
        "print('----range----')\n",
        "for value in range(10):\n",
        "  print(value)"
      ],
      "execution_count": 50,
      "outputs": [
        {
          "output_type": "stream",
          "text": [
            "1\n",
            "a\n",
            "b\n",
            "c\n",
            "2\n",
            "----range----\n",
            "0\n",
            "1\n",
            "2\n",
            "3\n",
            "4\n",
            "5\n",
            "6\n",
            "7\n",
            "8\n",
            "9\n"
          ],
          "name": "stdout"
        }
      ]
    },
    {
      "cell_type": "code",
      "metadata": {
        "id": "qacKQFsku5MB",
        "colab_type": "code",
        "colab": {
          "base_uri": "https://localhost:8080/",
          "height": 234
        },
        "outputId": "779b0229-a69b-42cc-ad60-e2ddb4067b8a"
      },
      "source": [
        "import cgi\n",
        "\n",
        "form = cgi.FieldStroage()\n",
        "if 'id' in form:\n",
        "  pageID = form[\"id\"].value\n",
        "  description = open('data/'+pageID, 'r').read()\n",
        "else:\n",
        "  pageID = 'welcome'\n",
        "  description = 'hello, web'\n",
        "print('''<!doctype html>\n",
        "<html>\n",
        "<head>\n",
        "  <title>WEB1 - welcome</title>\n",
        "  <meta charset=\"utf-8\">\n",
        "</head>\n",
        "</html>''')\n"
      ],
      "execution_count": 55,
      "outputs": [
        {
          "output_type": "error",
          "ename": "AttributeError",
          "evalue": "ignored",
          "traceback": [
            "\u001b[0;31m---------------------------------------------------------------------------\u001b[0m",
            "\u001b[0;31mAttributeError\u001b[0m                            Traceback (most recent call last)",
            "\u001b[0;32m<ipython-input-55-c9c974d23866>\u001b[0m in \u001b[0;36m<module>\u001b[0;34m()\u001b[0m\n\u001b[1;32m      1\u001b[0m \u001b[0;32mimport\u001b[0m \u001b[0mcgi\u001b[0m\u001b[0;34m\u001b[0m\u001b[0;34m\u001b[0m\u001b[0m\n\u001b[1;32m      2\u001b[0m \u001b[0;34m\u001b[0m\u001b[0m\n\u001b[0;32m----> 3\u001b[0;31m \u001b[0mform\u001b[0m \u001b[0;34m=\u001b[0m \u001b[0mcgi\u001b[0m\u001b[0;34m.\u001b[0m\u001b[0mFieldStroage\u001b[0m\u001b[0;34m(\u001b[0m\u001b[0;34m)\u001b[0m\u001b[0;34m\u001b[0m\u001b[0;34m\u001b[0m\u001b[0m\n\u001b[0m\u001b[1;32m      4\u001b[0m \u001b[0;32mif\u001b[0m \u001b[0;34m'id'\u001b[0m \u001b[0;32min\u001b[0m \u001b[0mform\u001b[0m\u001b[0;34m:\u001b[0m\u001b[0;34m\u001b[0m\u001b[0;34m\u001b[0m\u001b[0m\n\u001b[1;32m      5\u001b[0m   \u001b[0mpageID\u001b[0m \u001b[0;34m=\u001b[0m \u001b[0mform\u001b[0m\u001b[0;34m[\u001b[0m\u001b[0;34m\"id\"\u001b[0m\u001b[0;34m]\u001b[0m\u001b[0;34m.\u001b[0m\u001b[0mvalue\u001b[0m\u001b[0;34m\u001b[0m\u001b[0;34m\u001b[0m\u001b[0m\n",
            "\u001b[0;31mAttributeError\u001b[0m: module 'cgi' has no attribute 'FieldStroage'"
          ]
        }
      ]
    },
    {
      "cell_type": "code",
      "metadata": {
        "id": "0xBNqBjOxmcO",
        "colab_type": "code",
        "colab": {}
      },
      "source": [
        "/"
      ],
      "execution_count": null,
      "outputs": []
    }
  ]
}